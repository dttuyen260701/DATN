{
 "cells": [
  {
   "attachments": {},
   "cell_type": "markdown",
   "metadata": {},
   "source": [
    "    Import các thư viện cần thiết"
   ]
  },
  {
   "cell_type": "code",
   "execution_count": 1,
   "metadata": {},
   "outputs": [],
   "source": [
    "from selenium import webdriver\n",
    "import time\n",
    "from selenium.webdriver.common.by import By\n",
    "from tqdm import tqdm\n",
    "import csv\n",
    "from selenium.webdriver.support import expected_conditions as EC\n",
    "from selenium.webdriver.support.ui import WebDriverWait\n",
    "from selenium.common.exceptions import NoSuchElementException\n",
    "from selenium.webdriver.chrome.options import Options\n",
    "import pandas as pd\n",
    "import unidecode\n",
    "from cmath import nan\n",
    "import numpy as np\n",
    "import seaborn as sns\n",
    "from sklearn.model_selection import train_test_split\n",
    "from sklearn.linear_model import LogisticRegression\n",
    "from sklearn.metrics import accuracy_score\n",
    "from sklearn.preprocessing import MinMaxScaler\n",
    "from sklearn.cluster import KMeans\n",
    "from sklearn.cluster import MiniBatchKMeans\n",
    "from sklearn.model_selection import train_test_split\n",
    "import matplotlib.pyplot as plt\n",
    "from sklearn.preprocessing import MinMaxScaler , RobustScaler, StandardScaler\n",
    "import warnings\n",
    "import re\n",
    "import threading\n",
    "from sklearn.linear_model import LinearRegression\n",
    "from sklearn.model_selection import train_test_split\n",
    "from sklearn.metrics import mean_squared_error, r2_score\n",
    "import os\n",
    "warnings.filterwarnings(\"ignore\")"
   ]
  },
  {
   "cell_type": "markdown",
   "metadata": {},
   "source": [
    "    Crawl data"
   ]
  },
  {
   "attachments": {},
   "cell_type": "markdown",
   "metadata": {},
   "source": [
    "    URL = view-source:https://batdongsan.com.vn"
   ]
  },
  {
   "cell_type": "markdown",
   "metadata": {},
   "source": [
    "Khởi tạo đối tượng webdriver và khai báo link URL"
   ]
  },
  {
   "cell_type": "code",
   "execution_count": 2,
   "metadata": {},
   "outputs": [],
   "source": [
    "#URL = view-source:https://batdongsan.com.vn\n",
    "productLinks = []"
   ]
  },
  {
   "attachments": {},
   "cell_type": "markdown",
   "metadata": {},
   "source": [
    "Lấy tất cả các link của bất động sản tại Đà Nẵng"
   ]
  },
  {
   "cell_type": "code",
   "execution_count": 3,
   "metadata": {},
   "outputs": [
    {
     "data": {
      "text/plain": [
       "['https://batdongsan.com.vn/ban-nha-mat-pho-duong-an-thuong-3-phuong-my-an/b-toa-c-ho-giua-tt-khu-di-bo-cach-bien-100m-pr36196568',\n",
       " 'https://batdongsan.com.vn/ban-can-ho-chung-cu-duong-pham-kiet-phuong-khue-my-prj-the-sang-residence/chao-xuan-2023-giam-tu-1-1-ty-so-huu-vinh-vien-bien-da-nang-thanh-toan-dan-trai-18-thang-pr36293749',\n",
       " 'https://batdongsan.com.vn/ban-can-ho-chung-cu-duong-pham-kiet-phuong-khue-my-prj-the-sang-residence/-san-nha-dau-nam-chinh-chu-ban-gap-lo-goc-view-bien-82m2-o-da-nang-lh-0934571866-pr36293762',\n",
       " 'https://batdongsan.com.vn/ban-nha-mat-pho-duong-le-huu-trac-phuong-an-hai-dong/ban-ven-bien-da-nang-quan-son-tra-tp-da-nang-pr35884234',\n",
       " 'https://batdongsan.com.vn/ban-can-ho-chung-cu-duong-pham-kiet-phuong-khue-my-prj-the-sang-residence/giam-sau-24-cao-cap-gia-mua-bang-trung-cap-ch-bien-sh-lau-dai-pr36275117',\n",
       " 'https://batdongsan.com.vn/ban-can-ho-chung-cu-duong-vo-nguyen-giap-phuong-khue-my-prj-the-sang-residence/duy-nhat-mot-suat-ngoai-giao-gia-cuc-tot-vi-tri-dep-nhat-du-an-so-huu-lau-dai-pr35705144',\n",
       " 'https://batdongsan.com.vn/ban-can-ho-chung-cu-duong-pham-kiet-phuong-khue-my-prj-the-sang-residence/-cao-cap-gia-sat-day-thi-truong-so-huu-ngay-bay-gio-de-co-co-i-nhan-uu-dai-khung-pr36290766',\n",
       " 'https://batdongsan.com.vn/ban-dat-duong-vo-nguyen-giap-phuong-phuoc-my/-van-kiet-noi-dai-va-danh-sach-cap-nhat-xay-cao-tang-gia-canh-tranh-0932560868-pr32028448',\n",
       " 'https://batdongsan.com.vn/ban-can-ho-chung-cu-duong-pham-kiet-phuong-khue-my-prj-the-sang-residence/51-trieu-m2-so-huu-vinh-vien-bien-tot-nhat-da-nang-nam-2022-vietnam-property-award-2022-pr35590918',\n",
       " 'https://batdongsan.com.vn/ban-can-ho-chung-cu-duong-pham-kiet-phuong-khue-my-prj-the-sang-residence/kng-co-kha-nang-chi-tra-ban-gap-view-bien-khe-da-nang-trung-tam-tp-pr35356981',\n",
       " 'https://batdongsan.com.vn/ban-shophouse-nha-pho-thuong-mai-duong-me-linh-phuong-hoa-hiep-nam-prj-lakeside-palace/gap-1-can-mat-tien-view-ho-ban-sap-san-truoc-tet-chi-4-75-ty-alo-0972700420-pr36282073',\n",
       " 'https://batdongsan.com.vn/ban-can-ho-chung-cu-phuong-hoa-hai-prj-fpt-city-da-nang/chi-20-trieu-booking-ngay-palaza2-chiet-khau-ngay-8-va-nhieu-chinh-sach-uu-dai-tu-cdt-pr36040982',\n",
       " 'https://batdongsan.com.vn/ban-can-ho-chung-cu-duong-pham-kiet-phuong-khue-my-prj-the-sang-residence/so-huu-cao-cap-view-bien-khe-trung-tam-tp-da-nang-chi-tu-3-ty-dong-pr35274721',\n",
       " 'https://batdongsan.com.vn/ban-dat-duong-tran-hung-dao-phuong-an-hai-tay/ban-re-cap-200m2-10x20-mt-doi-dien-c-cu-monarchy-gan-cau-rong-pr36268575',\n",
       " 'https://batdongsan.com.vn/ban-dat-nen-du-an-phuong-hoa-hiep-nam-prj-golden-hills-city/chinh-chu-can-tien-ban-truoc-tet-duong-7-5m-10-5m-tu-a1-den-a6-hill-gia-tot-nhat-thi-truong-pr32247918',\n",
       " 'https://batdongsan.com.vn/ban-can-ho-chung-cu-duong-pham-kiet-phuong-khue-my-prj-the-sang-residence/-view-bien-khe-so-do-lau-dai-trung-tam-thanh-p-da-nang-1-3-ty-pr35662708',\n",
       " 'https://batdongsan.com.vn/ban-nha-biet-thu-lien-ke-duong-song-hao-phuong-hoa-hai-prj-one-river/-suat-ngoai-giao-can-goc-3-mat-tien-khu-mat-vip-nhat-da-nang-pr34712751',\n",
       " 'https://batdongsan.com.vn/ban-nha-biet-thu-lien-ke-duong-song-hao-phuong-hoa-hai-prj-one-river/-full-noi-that-so-do-lau-dai-ven-bien-trung-tam-thanh-pho-da-nang-gia-goc-tu-chu-dau-tu-pr35977745',\n",
       " 'https://batdongsan.com.vn/ban-nha-mat-pho-duong-nguyen-huu-tho-phuong-hoa-thuan-tay/ban-toa-co-dong-tien-cho-thue-cao-trung-tam-thanh-pho-pr36293313',\n",
       " 'https://batdongsan.com.vn/ban-shophouse-nha-pho-thuong-mai-duong-hoa-son-10-phuong-hoa-cuong-nam-prj-regal-pavillon-da-nang/ban-mat-tien-ven-song-han-ngay-di-bo-tt-q-hai-chau-6x20-co-so-n-ngay-pr36238851']"
      ]
     },
     "execution_count": 3,
     "metadata": {},
     "output_type": "execute_result"
    }
   ],
   "source": [
    "urlDaNang = \"https://batdongsan.com.vn/nha-dat-ban-da-nang/p{}\"\n",
    "for pagenum in range(1,2):\n",
    "   try:\n",
    "      browser = webdriver.Chrome(executable_path=\"chromedriver\")\n",
    "      browser.get(urlDaNang.format(pagenum))\n",
    "      tagAs = browser.find_elements(By.CLASS_NAME, \"js__product-link-for-product-id\")\n",
    "      for tagA in tagAs:\n",
    "         productLinks.append(tagA.get_attribute(\"href\"))\n",
    "   except:\n",
    "      continue\n",
    "   browser.quit()\n",
    "productLinks"
   ]
  },
  {
   "attachments": {},
   "cell_type": "markdown",
   "metadata": {},
   "source": [
    "Lấy các thuộc tính của bất động sản"
   ]
  },
  {
   "cell_type": "code",
   "execution_count": 4,
   "metadata": {},
   "outputs": [
    {
     "data": {
      "text/plain": [
       "[{'name': 'BÁN TOÀ NHÀ CĂN HỘ GIỮA TT KHU PHỐ ĐI BỘ AN THƯỢNG, CÁCH BIỂN 100M',\n",
       "  'Diện tích': '270 m²',\n",
       "  'Mức giá': '72 tỷ',\n",
       "  'Mặt tiền': '15 m',\n",
       "  'Đường vào': '15 m',\n",
       "  'Hướng nhà': 'Đông',\n",
       "  'Hướng ban công': 'Đông',\n",
       "  'Số tầng': '8 tầng',\n",
       "  'Số phòng ngủ': '33 phòng',\n",
       "  'Số toilet': '33 phòng',\n",
       "  'Pháp lý': 'Chính chủ',\n",
       "  'Nội thất': 'Full nội thất cơ bản - nóng lạnh'},\n",
       " {'name': 'CHÀO XUÂN 2023 GIẢM TỪ 1,1 TỶ SỞ HỮU VĨNH VIỄN CĂN HỘ BIỂN ĐÀ NẴNG, THANH TOÁN DÀN TRẢI 18 THÁNG',\n",
       "  'Diện tích': '82.5 m²',\n",
       "  'Mức giá': '3.487 tỷ',\n",
       "  'Số phòng ngủ': '2 phòng',\n",
       "  'Số toilet': '2 phòng',\n",
       "  'Pháp lý': 'Sổ đỏ/ Sổ hồng'},\n",
       " {'name': 'SĂN NHÀ ĐẦU NĂM - CHÍNH CHỦ CẦN BÁN GẤP LÔ GÓC VIEW BIỂN 82M2 Ở CĂN HỘ ĐÀ NẴNG - LH: 0934 571 ***',\n",
       "  'Diện tích': '82 m²',\n",
       "  'Mức giá': '3.529 tỷ',\n",
       "  'Hướng nhà': 'Tây - Bắc',\n",
       "  'Hướng ban công': 'Đông - Nam',\n",
       "  'Số phòng ngủ': '2 phòng',\n",
       "  'Số toilet': '2 phòng',\n",
       "  'Pháp lý': 'Sổ đỏ/ Sổ hồng',\n",
       "  'Nội thất': 'Đầy đủ'},\n",
       " {'name': 'BÁN NHÀ VEN BIỂN ĐÀ NẴNG ĐƯỜNG LÊ HỮU TRÁC, QUẬN SƠN TRÀ, TP ĐÀ NẴNG',\n",
       "  'Diện tích': '222 m²',\n",
       "  'Mức giá': '12.9 tỷ'},\n",
       " {'name': 'ĐÓN XUÂN 2023 CÙNG QUỸ CĂN NGOẠI GIAO 42 TR/M2 TẠI DỰ ÁN THE SANG RESIDENCE - LH: 0941 888 ***',\n",
       "  'Diện tích': '83 m²',\n",
       "  'Mức giá': '3.483 tỷ',\n",
       "  'Hướng ban công': 'Đông - Nam',\n",
       "  'Số phòng ngủ': '2 phòng',\n",
       "  'Số toilet': '2 phòng',\n",
       "  'Pháp lý': 'Sổ đỏ/ Sổ hồng.'},\n",
       " {'name': 'CẦN TIỀN BÁN RẺ LẠI CĂN HỘ THE SANG RESIDENCE, SỔ LÂU DÀI, THANH TOÁN DÀN TRẢI 18 THÁNG',\n",
       "  'Diện tích': '105.5 m²',\n",
       "  'Mức giá': 'Thỏa thuận',\n",
       "  'Số phòng ngủ': '3 phòng',\n",
       "  'Pháp lý': 'Sổ đỏ',\n",
       "  'Nội thất': 'Bàn giao Trang thiết bị hiện đại, cao cấp.'},\n",
       " {'name': 'CĂN HỘ CAO CẤP VEN BIỂN MỸ KHÊ, GIÁ SÁT ĐÁY THỊ TRƯỜNG, SỞ HỮU NGAY BÂY GIỜ CÒN KỊP MUA GIÁ RẺ',\n",
       "  'Diện tích': '82.5 m²',\n",
       "  'Mức giá': '3.5 tỷ',\n",
       "  'Số phòng ngủ': '2 phòng',\n",
       "  'Số toilet': '2 phòng',\n",
       "  'Nội thất': 'Bàn giao nội thất liền tường, trần thạch cao khung xương chìm sơn nước hiệu vĩnh tường, lắp sẵn điều hòa âm trần hãng LG, hệ ánh sáng cao cấp hiệu philips, nhà bếp, nhà vệ sinh hoàn thiện 100%.'},\n",
       " {'name': 'ĐẤT ĐƯỜNG VÕ NGUYÊN GIÁP VÀ DANH SÁCH CẬP NHẬT ĐẤT XÂY CAO TẦNG, GIÁ CẠNH TRANH, 0932 560 ***',\n",
       "  'Diện tích': '600 m²',\n",
       "  'Mức giá': 'Thỏa thuận'},\n",
       " {'name': 'TỪ 48 TR/M2 SỞ HỮU VĨNH VIỄN CĂN HỘ BIỂN TỐT NHẤT ĐÀ NẴNG NĂM 2022 (VIETNAM PROPERTY AWARD 2022)',\n",
       "  'Diện tích': '105 m²',\n",
       "  'Mức giá': 'Thỏa thuận',\n",
       "  'Hướng nhà': 'Tây - Nam',\n",
       "  'Hướng ban công': 'Đông - Bắc',\n",
       "  'Số phòng ngủ': '3 phòng',\n",
       "  'Số toilet': '2 phòng',\n",
       "  'Pháp lý': 'Sổ đỏ/ Sổ hồng'},\n",
       " {'name': 'CHÍNH CHỦ KẸT TIỀN BÁN GẤP CĂN HỘ THE SANG BIỂN MỸ KHÊ, ĐÀ NẴNG, SỔ ĐỎ LÂU DÀI, THANH TOÁN DÀN TRẢI',\n",
       "  'Diện tích': '82.5 m²',\n",
       "  'Mức giá': 'Thỏa thuận',\n",
       "  'Số phòng ngủ': '2 phòng',\n",
       "  'Số toilet': '2 phòng',\n",
       "  'Pháp lý': 'Sổ đỏ/ Sổ hồng'},\n",
       " {'name': 'GẤP! 1 CĂN NHÀ PHỐ MẶT TIỀN MÊ LINH VIEW HỒ BÁN SẬP SÀN TRƯỚC TẾT CHỈ 4,75 TỶ. ALO 0972 700 ***',\n",
       "  'Diện tích': '126 m²',\n",
       "  'Mức giá': '4.75 tỷ',\n",
       "  'Mặt tiền': '5 m',\n",
       "  'Đường vào': '34 m',\n",
       "  'Hướng nhà': 'Đông - Nam',\n",
       "  'Hướng ban công': 'Đông - Nam',\n",
       "  'Số tầng': '3 tầng',\n",
       "  'Số phòng ngủ': '4 phòng',\n",
       "  'Số toilet': '3 phòng',\n",
       "  'Pháp lý': 'Sổ đỏ/ Sổ hồng',\n",
       "  'Nội thất': 'Không nội thất'},\n",
       " {'name': 'CHỈ 20 TRIỆU BOOKING NGAY CĂN HỘ FPT PLAZA 2 CHIẾT KHẤU NGAY 8% VÀ NHIỀU CHÍNH SÁCH ƯU ĐÃI TỪ CĐT',\n",
       "  'Diện tích': '68 m²',\n",
       "  'Mức giá': '1.7 tỷ',\n",
       "  'Số phòng ngủ': '2 phòng'},\n",
       " {'name': 'CĂN HỘ CAO CẤP VIEW BIỂN MỸ KHÊ, TRUNG TÂM TP ĐÀ NẴNG, CHỈ TỪ 3 TỶ ĐỒNG',\n",
       "  'Diện tích': '57.9 m²',\n",
       "  'Mức giá': '3.051 tỷ',\n",
       "  'Số phòng ngủ': '1 phòng',\n",
       "  'Số toilet': '1 phòng',\n",
       "  'Pháp lý': 'Sổ đỏ/ Sổ hồng',\n",
       "  'Nội thất': 'Bàn giao nội thất liền tường hàng thương hiệu cao cấp'},\n",
       " {'name': 'BÁN RẺ CẶP ĐẤT 200M2 (10X20M) MT ĐƯỜNG TRẦN HƯNG ĐẠO - ĐỐI DIỆN CHUNG CƯ MONARCHY - GẦN CẦU RỒNG',\n",
       "  'Diện tích': '200 m²',\n",
       "  'Mức giá': '33 tỷ',\n",
       "  'Mặt tiền': '20 m',\n",
       "  'Đường vào': '15 m',\n",
       "  'Hướng nhà': 'Đông',\n",
       "  'Pháp lý': 'Sổ đỏ/ Sổ hồng.'},\n",
       " {'name': 'Chính chủ cần tiền bán đường 7,5m, 10,5m từ A1 đến A6 từ 1,85tỷ đến 2,2 tỷ/125m2 đường 7,5m, lề 4m',\n",
       "  'Diện tích': '125 m²',\n",
       "  'Mức giá': '1.85 tỷ',\n",
       "  'Mặt tiền': '5 m',\n",
       "  'Đường vào': '7.5 m',\n",
       "  'Hướng nhà': 'Đông - Nam',\n",
       "  'Pháp lý': 'Sổ đỏ/ Sổ hồng'},\n",
       " {'name': 'Sở hữu căn hộ view biển Đà Nẵng, giá chỉ 1,4 tỷ (30%) - sổ hồng lâu dài',\n",
       "  'Diện tích': '82.5 m²',\n",
       "  'Mức giá': 'Thỏa thuận',\n",
       "  'Số phòng ngủ': '2 phòng',\n",
       "  'Số toilet': '2 phòng',\n",
       "  'Pháp lý': 'Sổ đỏ/ Sổ hồng.',\n",
       "  'Nội thất': 'Nội thất hoàn thiện cơ bản cao cấp.'},\n",
       " {'name': '(Suất ngoại giao) căn góc 3 mặt tiền - khu biệt thự mặt sông vip nhất Đà Nẵng',\n",
       "  'Diện tích': '300 m²',\n",
       "  'Mức giá': '24.8 tỷ',\n",
       "  'Đường vào': '30 m',\n",
       "  'Hướng nhà': 'Đông - Bắc',\n",
       "  'Hướng ban công': 'Tây - Nam',\n",
       "  'Số phòng ngủ': '5 phòng',\n",
       "  'Số toilet': '5 phòng',\n",
       "  'Pháp lý': 'Sổ đỏ/ Sổ hồng'},\n",
       " {'name': 'Biệt thự full nội thất, ven biển trung tâm thành phố Đà Nẵng - sổ đỏ lâu dài, giá gốc từ chủ đầu tư',\n",
       "  'Diện tích': '300 m²',\n",
       "  'Mức giá': '14 tỷ',\n",
       "  'Mặt tiền': '15 m',\n",
       "  'Đường vào': '25 m',\n",
       "  'Hướng nhà': 'Nam',\n",
       "  'Hướng ban công': 'Nam',\n",
       "  'Số tầng': '3 tầng',\n",
       "  'Số phòng ngủ': '4 phòng',\n",
       "  'Số toilet': '4 phòng',\n",
       "  'Pháp lý': 'Sổ đỏ/ Sổ hồng',\n",
       "  'Nội thất': 'Cao Cấp'},\n",
       " {'name': 'Bán tòa nhà có dòng tiền cho thuê cao trung tâm thành phố',\n",
       "  'Diện tích': '450 m²',\n",
       "  'Mức giá': '120 tỷ',\n",
       "  'Hướng nhà': 'Đông',\n",
       "  'Số tầng': '13 tầng',\n",
       "  'Pháp lý': 'Sổ đỏ/ Sổ hồng',\n",
       "  'Nội thất': 'Đầy đủ'},\n",
       " {'name': 'Bán nhà mặt tiền ven sông Hàn ngay phố đi bộ TT Hải Châu, Đà Nẵng, 6x20m - đã có sổ nhận nhà ngay',\n",
       "  'Diện tích': '120 m²',\n",
       "  'Mức giá': 'Thỏa thuận',\n",
       "  'Mặt tiền': '6 m',\n",
       "  'Đường vào': '15 m',\n",
       "  'Số tầng': '4 tầng',\n",
       "  'Số phòng ngủ': '6 phòng',\n",
       "  'Số toilet': '4 phòng',\n",
       "  'Pháp lý': 'Sổ đỏ/ Sổ hồng',\n",
       "  'Nội thất': 'Đầy đủ.'}]"
      ]
     },
     "execution_count": 4,
     "metadata": {},
     "output_type": "execute_result"
    }
   ],
   "source": [
    "detailProductsDN = []\n",
    "for link in productLinks:\n",
    "    try:\n",
    "        browser = webdriver.Chrome(executable_path=\"chromedriver\")\n",
    "        browser.get(link)\n",
    "        try:\n",
    "            name = browser.find_element(By.TAG_NAME, \"h1\").text\n",
    "            detailProduct = {\"name\": name}\n",
    "        except:\n",
    "            pass\n",
    "        try:\n",
    "            tagTitle = browser.find_elements(By.CLASS_NAME, \"re__pr-specs-content-item-title\")\n",
    "            tagValue = browser.find_elements(By.CLASS_NAME, \"re__pr-specs-content-item-value\")\n",
    "            for index in range(0, len(tagTitle)):\n",
    "                detailProduct[tagTitle[index].text]= tagValue[index].text\n",
    "        except:\n",
    "            pass\n",
    "        try:\n",
    "            address = browser.find_element(By.CLASS_NAME, \"re__section-body js__section-body\").find_element(By.TAG_NAME, \"iframe\").get_attribute(\"data-src\")\n",
    "            detailProduct[\"Address\"]= address\n",
    "        except:\n",
    "            pass\n",
    "        detailProductsDN.append(detailProduct)\n",
    "    except:\n",
    "        print(\"link\")\n",
    "        continue\n",
    "    browser.quit()\n",
    "detailProductsDN"
   ]
  },
  {
   "attachments": {},
   "cell_type": "markdown",
   "metadata": {},
   "source": [
    "Ghi dữ liệu qua file excel"
   ]
  },
  {
   "cell_type": "code",
   "execution_count": 6,
   "metadata": {},
   "outputs": [],
   "source": [
    "csv_columns = []\n",
    "for product in detailProductsDN:\n",
    "    tempkhac = set(list(product)[0:]) ^ set(csv_columns)\n",
    "    tempgiong = set(list(product)[0:]) & set(csv_columns)\n",
    "    csv_columns = tempkhac ^ tempgiong\n",
    "csv_file = \"dataBatDongSanDN.csv\"\n",
    "try:\n",
    "    with open(csv_file, 'w+',encoding= \"utf-8\") as csvfile:\n",
    "        writer = csv.DictWriter(csvfile, fieldnames=csv_columns)\n",
    "        writer.writeheader()\n",
    "        for dataz in detailProductsDN:\n",
    "            try:\n",
    "                writer.writerow(dataz)\n",
    "            except:\n",
    "                continue\n",
    "except IOError:\n",
    "    print(\"I/O error\")"
   ]
  }
 ],
 "metadata": {
  "kernelspec": {
   "display_name": "Python 3",
   "language": "python",
   "name": "python3"
  },
  "language_info": {
   "codemirror_mode": {
    "name": "ipython",
    "version": 3
   },
   "file_extension": ".py",
   "mimetype": "text/x-python",
   "name": "python",
   "nbconvert_exporter": "python",
   "pygments_lexer": "ipython3",
   "version": "3.11.1 (v3.11.1:a7a450f84a, Dec  6 2022, 15:24:06) [Clang 13.0.0 (clang-1300.0.29.30)]"
  },
  "orig_nbformat": 4,
  "vscode": {
   "interpreter": {
    "hash": "aee8b7b246df8f9039afb4144a1f6fd8d2ca17a180786b69acc140d282b71a49"
   }
  }
 },
 "nbformat": 4,
 "nbformat_minor": 2
}
