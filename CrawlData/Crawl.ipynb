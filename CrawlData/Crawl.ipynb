{
 "cells": [
  {
   "attachments": {},
   "cell_type": "markdown",
   "metadata": {},
   "source": [
    "    Import các thư viện cần thiết"
   ]
  },
  {
   "cell_type": "code",
   "execution_count": 1,
   "metadata": {},
   "outputs": [],
   "source": [
    "from selenium import webdriver\n",
    "import time\n",
    "from selenium.webdriver.common.by import By\n",
    "from tqdm import tqdm\n",
    "import csv\n",
    "from selenium.webdriver.support import expected_conditions as EC\n",
    "from selenium.webdriver.support.ui import WebDriverWait\n",
    "import pandas as pd\n",
    "import unidecode\n",
    "from cmath import nan\n",
    "import numpy as np\n",
    "import seaborn as sns\n",
    "from sklearn.model_selection import train_test_split\n",
    "from sklearn.linear_model import LogisticRegression\n",
    "from sklearn.metrics import accuracy_score\n",
    "from sklearn.preprocessing import MinMaxScaler\n",
    "from sklearn.cluster import KMeans\n",
    "from sklearn.cluster import MiniBatchKMeans\n",
    "from sklearn.model_selection import train_test_split\n",
    "import matplotlib.pyplot as plt\n",
    "from sklearn.preprocessing import MinMaxScaler , RobustScaler, StandardScaler\n",
    "import warnings\n",
    "import re\n",
    "from sklearn.linear_model import LinearRegression\n",
    "from sklearn.model_selection import train_test_split\n",
    "from sklearn.metrics import mean_squared_error, r2_score\n",
    "import os\n",
    "warnings.filterwarnings(\"ignore\")"
   ]
  },
  {
   "cell_type": "markdown",
   "metadata": {},
   "source": [
    "    Crawl data"
   ]
  },
  {
   "attachments": {},
   "cell_type": "markdown",
   "metadata": {},
   "source": [
    "    URL = http://thienkimreal.com.vn"
   ]
  },
  {
   "cell_type": "markdown",
   "metadata": {},
   "source": [
    "Khởi tạo đối tượng webdriver và khai báo link URL"
   ]
  },
  {
   "cell_type": "code",
   "execution_count": 39,
   "metadata": {},
   "outputs": [],
   "source": [
    "#URL = http://thienkimreal.com.vn\n",
    "productLinks= []\n",
    "detailProducts = []\n",
    "browser = webdriver.Chrome(executable_path=\"chromedriver\")\n",
    "url = \"http://thienkimreal.com.vn/ban-nha-tai-da-nang-gia-re/{}\"\n"
   ]
  },
  {
   "attachments": {},
   "cell_type": "markdown",
   "metadata": {},
   "source": [
    "Lấy tất cả các link của bất động sản"
   ]
  },
  {
   "cell_type": "code",
   "execution_count": 40,
   "metadata": {},
   "outputs": [
    {
     "name": "stdout",
     "output_type": "stream",
     "text": [
      "http://thienkimreal.com.vn/chi-tiet/2343-can-ban-nha-duong-le-thanh-nghi-70m2-2-tang-3-phong-ngu-10-ty\n",
      "http://thienkimreal.com.vn/chi-tiet/2341-can-ban-nha-duong-duong-tri-trach-75m2-3-tang-8-ty\n",
      "http://thienkimreal.com.vn/chi-tiet/2336-can-ban-nha-duong-tran-hung-dao-125m2-ngang-5m-4-tang-3375-ty\n",
      "http://thienkimreal.com.vn/chi-tiet/2333-can-ban-nha-duong-phung-hung-1025m2-ngang-5m-2-tang-62-ty\n",
      "http://thienkimreal.com.vn/chi-tiet/2332-can-ban-nha-duong-ly-nhat-quang-1517m2-4-tang-135-ty\n",
      "http://thienkimreal.com.vn/chi-tiet/2330-can-ban-nha-duong-pham-dinh-ho-100m2-ngang-5m-2-tang-57-ty\n",
      "http://thienkimreal.com.vn/chi-tiet/2329-can-ban-nha-duong-my-an-3-903m2-3-tang-3-phong-ngu-82-ty\n",
      "http://thienkimreal.com.vn/chi-tiet/2324-can-ban-nha-duong-nguyen-quang-bich-185m2-4-tang-16-ty\n",
      "http://thienkimreal.com.vn/chi-tiet/2323-can-ban-nha-duong-duong-thuong-925m2-ngang-5m-2-tang-3-phong-ngu-79-ty\n",
      "http://thienkimreal.com.vn/chi-tiet/2322-can-ban-nha-duong-tieu-la-100m2-3-tang-3-phong-ngu-155-ty\n",
      "http://thienkimreal.com.vn/chi-tiet/2320-can-ban-nha-duong-an-thuong-6-675m2-ngang-45m-5-tang-8-phong-ngu-125-ty\n",
      "http://thienkimreal.com.vn/chi-tiet/2318-can-ban-nha-duong-le-ninh-887m2-ngang-45m-7-tang-10-phong-ngu-14-ty\n",
      "http://thienkimreal.com.vn/chi-tiet/2312-can-ban-nha-duong-nguyen-thien-ke-1714m2-11-ty\n",
      "http://thienkimreal.com.vn/chi-tiet/2307-can-ban-nha-duong-tieu-la-80m2-ngang-5m-2-tang-3-phong-ngu-108-ty\n",
      "http://thienkimreal.com.vn/chi-tiet/2306-can-ban-nha-trong-kiet-duong-dien-bien-phu-607m2-nha-cap-4-san-vuon-27-ty\n"
     ]
    },
    {
     "ename": "NoSuchElementException",
     "evalue": "Message: no such element: Unable to locate element: {\"method\":\"tag name\",\"selector\":\"a\"}\n  (Session info: chrome=109.0.5414.87)\nStacktrace:\n0   chromedriver                        0x0000000103072fa8 chromedriver + 4886440\n1   chromedriver                        0x0000000102ff0643 chromedriver + 4351555\n2   chromedriver                        0x0000000102c3eb27 chromedriver + 477991\n3   chromedriver                        0x0000000102c8376c chromedriver + 759660\n4   chromedriver                        0x0000000102c839c1 chromedriver + 760257\n5   chromedriver                        0x0000000102c75506 chromedriver + 701702\n6   chromedriver                        0x0000000102ca95fd chromedriver + 914941\n7   chromedriver                        0x0000000102c753dd chromedriver + 701405\n8   chromedriver                        0x0000000102ca978e chromedriver + 915342\n9   chromedriver                        0x0000000102cc45fe chromedriver + 1025534\n10  chromedriver                        0x0000000102ca93a3 chromedriver + 914339\n11  chromedriver                        0x0000000102c7357f chromedriver + 693631\n12  chromedriver                        0x0000000102c74b1e chromedriver + 699166\n13  chromedriver                        0x000000010303fb9e chromedriver + 4676510\n14  chromedriver                        0x000000010304491e chromedriver + 4696350\n15  chromedriver                        0x000000010304c19f chromedriver + 4727199\n16  chromedriver                        0x000000010304581a chromedriver + 4700186\n17  chromedriver                        0x0000000103018a62 chromedriver + 4516450\n18  chromedriver                        0x00000001030648c8 chromedriver + 4827336\n19  chromedriver                        0x0000000103064a45 chromedriver + 4827717\n20  chromedriver                        0x000000010307a7ef chromedriver + 4917231\n21  libsystem_pthread.dylib             0x00007ff80ccf1259 _pthread_start + 125\n22  libsystem_pthread.dylib             0x00007ff80ccecc7b thread_start + 15\n",
     "output_type": "error",
     "traceback": [
      "\u001b[0;31m---------------------------------------------------------------------------\u001b[0m",
      "\u001b[0;31mNoSuchElementException\u001b[0m                    Traceback (most recent call last)",
      "Cell \u001b[0;32mIn[40], line 11\u001b[0m\n\u001b[1;32m      9\u001b[0m tagAs \u001b[39m=\u001b[39m browser\u001b[39m.\u001b[39mfind_elements(By\u001b[39m.\u001b[39mCLASS_NAME, \u001b[39m\"\u001b[39m\u001b[39mcol-sm-8\u001b[39m\u001b[39m\"\u001b[39m)\n\u001b[1;32m     10\u001b[0m \u001b[39mfor\u001b[39;00m i \u001b[39min\u001b[39;00m tagAs:\n\u001b[0;32m---> 11\u001b[0m    \u001b[39mprint\u001b[39m(i\u001b[39m.\u001b[39;49mfind_element(By\u001b[39m.\u001b[39;49mTAG_NAME, \u001b[39m\"\u001b[39;49m\u001b[39ma\u001b[39;49m\u001b[39m\"\u001b[39;49m)\u001b[39m.\u001b[39mget_attribute(\u001b[39m\"\u001b[39m\u001b[39mhref\u001b[39m\u001b[39m\"\u001b[39m))\n",
      "File \u001b[0;32m/Library/Frameworks/Python.framework/Versions/3.11/lib/python3.11/site-packages/selenium/webdriver/remote/webelement.py:433\u001b[0m, in \u001b[0;36mWebElement.find_element\u001b[0;34m(self, by, value)\u001b[0m\n\u001b[1;32m    430\u001b[0m     by \u001b[39m=\u001b[39m By\u001b[39m.\u001b[39mCSS_SELECTOR\n\u001b[1;32m    431\u001b[0m     value \u001b[39m=\u001b[39m \u001b[39m'\u001b[39m\u001b[39m[name=\u001b[39m\u001b[39m\"\u001b[39m\u001b[39m%s\u001b[39;00m\u001b[39m\"\u001b[39m\u001b[39m]\u001b[39m\u001b[39m'\u001b[39m \u001b[39m%\u001b[39m value\n\u001b[0;32m--> 433\u001b[0m \u001b[39mreturn\u001b[39;00m \u001b[39mself\u001b[39;49m\u001b[39m.\u001b[39;49m_execute(Command\u001b[39m.\u001b[39;49mFIND_CHILD_ELEMENT, {\u001b[39m\"\u001b[39;49m\u001b[39musing\u001b[39;49m\u001b[39m\"\u001b[39;49m: by, \u001b[39m\"\u001b[39;49m\u001b[39mvalue\u001b[39;49m\u001b[39m\"\u001b[39;49m: value})[\u001b[39m\"\u001b[39m\u001b[39mvalue\u001b[39m\u001b[39m\"\u001b[39m]\n",
      "File \u001b[0;32m/Library/Frameworks/Python.framework/Versions/3.11/lib/python3.11/site-packages/selenium/webdriver/remote/webelement.py:410\u001b[0m, in \u001b[0;36mWebElement._execute\u001b[0;34m(self, command, params)\u001b[0m\n\u001b[1;32m    408\u001b[0m     params \u001b[39m=\u001b[39m {}\n\u001b[1;32m    409\u001b[0m params[\u001b[39m\"\u001b[39m\u001b[39mid\u001b[39m\u001b[39m\"\u001b[39m] \u001b[39m=\u001b[39m \u001b[39mself\u001b[39m\u001b[39m.\u001b[39m_id\n\u001b[0;32m--> 410\u001b[0m \u001b[39mreturn\u001b[39;00m \u001b[39mself\u001b[39;49m\u001b[39m.\u001b[39;49m_parent\u001b[39m.\u001b[39;49mexecute(command, params)\n",
      "File \u001b[0;32m/Library/Frameworks/Python.framework/Versions/3.11/lib/python3.11/site-packages/selenium/webdriver/remote/webdriver.py:444\u001b[0m, in \u001b[0;36mWebDriver.execute\u001b[0;34m(self, driver_command, params)\u001b[0m\n\u001b[1;32m    442\u001b[0m response \u001b[39m=\u001b[39m \u001b[39mself\u001b[39m\u001b[39m.\u001b[39mcommand_executor\u001b[39m.\u001b[39mexecute(driver_command, params)\n\u001b[1;32m    443\u001b[0m \u001b[39mif\u001b[39;00m response:\n\u001b[0;32m--> 444\u001b[0m     \u001b[39mself\u001b[39;49m\u001b[39m.\u001b[39;49merror_handler\u001b[39m.\u001b[39;49mcheck_response(response)\n\u001b[1;32m    445\u001b[0m     response[\u001b[39m\"\u001b[39m\u001b[39mvalue\u001b[39m\u001b[39m\"\u001b[39m] \u001b[39m=\u001b[39m \u001b[39mself\u001b[39m\u001b[39m.\u001b[39m_unwrap_value(response\u001b[39m.\u001b[39mget(\u001b[39m\"\u001b[39m\u001b[39mvalue\u001b[39m\u001b[39m\"\u001b[39m, \u001b[39mNone\u001b[39;00m))\n\u001b[1;32m    446\u001b[0m     \u001b[39mreturn\u001b[39;00m response\n",
      "File \u001b[0;32m/Library/Frameworks/Python.framework/Versions/3.11/lib/python3.11/site-packages/selenium/webdriver/remote/errorhandler.py:249\u001b[0m, in \u001b[0;36mErrorHandler.check_response\u001b[0;34m(self, response)\u001b[0m\n\u001b[1;32m    247\u001b[0m         alert_text \u001b[39m=\u001b[39m value[\u001b[39m\"\u001b[39m\u001b[39malert\u001b[39m\u001b[39m\"\u001b[39m]\u001b[39m.\u001b[39mget(\u001b[39m\"\u001b[39m\u001b[39mtext\u001b[39m\u001b[39m\"\u001b[39m)\n\u001b[1;32m    248\u001b[0m     \u001b[39mraise\u001b[39;00m exception_class(message, screen, stacktrace, alert_text)  \u001b[39m# type: ignore[call-arg]  # mypy is not smart enough here\u001b[39;00m\n\u001b[0;32m--> 249\u001b[0m \u001b[39mraise\u001b[39;00m exception_class(message, screen, stacktrace)\n",
      "\u001b[0;31mNoSuchElementException\u001b[0m: Message: no such element: Unable to locate element: {\"method\":\"tag name\",\"selector\":\"a\"}\n  (Session info: chrome=109.0.5414.87)\nStacktrace:\n0   chromedriver                        0x0000000103072fa8 chromedriver + 4886440\n1   chromedriver                        0x0000000102ff0643 chromedriver + 4351555\n2   chromedriver                        0x0000000102c3eb27 chromedriver + 477991\n3   chromedriver                        0x0000000102c8376c chromedriver + 759660\n4   chromedriver                        0x0000000102c839c1 chromedriver + 760257\n5   chromedriver                        0x0000000102c75506 chromedriver + 701702\n6   chromedriver                        0x0000000102ca95fd chromedriver + 914941\n7   chromedriver                        0x0000000102c753dd chromedriver + 701405\n8   chromedriver                        0x0000000102ca978e chromedriver + 915342\n9   chromedriver                        0x0000000102cc45fe chromedriver + 1025534\n10  chromedriver                        0x0000000102ca93a3 chromedriver + 914339\n11  chromedriver                        0x0000000102c7357f chromedriver + 693631\n12  chromedriver                        0x0000000102c74b1e chromedriver + 699166\n13  chromedriver                        0x000000010303fb9e chromedriver + 4676510\n14  chromedriver                        0x000000010304491e chromedriver + 4696350\n15  chromedriver                        0x000000010304c19f chromedriver + 4727199\n16  chromedriver                        0x000000010304581a chromedriver + 4700186\n17  chromedriver                        0x0000000103018a62 chromedriver + 4516450\n18  chromedriver                        0x00000001030648c8 chromedriver + 4827336\n19  chromedriver                        0x0000000103064a45 chromedriver + 4827717\n20  chromedriver                        0x000000010307a7ef chromedriver + 4917231\n21  libsystem_pthread.dylib             0x00007ff80ccf1259 _pthread_start + 125\n22  libsystem_pthread.dylib             0x00007ff80ccecc7b thread_start + 15\n"
     ]
    }
   ],
   "source": [
    "productLinks = []\n",
    "# for pagenum in range(1,2):\n",
    "#     browser.get(url.format(pagenum))\n",
    "#     tagAs = browser.find_elements_by_css_selector(\"div.col-sm-8 a\")\n",
    "#     for tagA in tagAs:\n",
    "#         productLinks.append(tagA.get_attribute(\"href\"))\n",
    "# len(productLinks)\n",
    "browser.get(url.format(1))\n",
    "tagAs = browser.find_elements(By.CLASS_NAME, \"col-sm-8\")\n",
    "for i in tagAs:\n",
    "   print(i.find_element(By.TAG_NAME, \"a\").get_attribute(\"href\"))"
   ]
  }
 ],
 "metadata": {
  "kernelspec": {
   "display_name": "Python 3",
   "language": "python",
   "name": "python3"
  },
  "language_info": {
   "codemirror_mode": {
    "name": "ipython",
    "version": 3
   },
   "file_extension": ".py",
   "mimetype": "text/x-python",
   "name": "python",
   "nbconvert_exporter": "python",
   "pygments_lexer": "ipython3",
   "version": "3.11.1"
  },
  "orig_nbformat": 4,
  "vscode": {
   "interpreter": {
    "hash": "aee8b7b246df8f9039afb4144a1f6fd8d2ca17a180786b69acc140d282b71a49"
   }
  }
 },
 "nbformat": 4,
 "nbformat_minor": 2
}
