{
 "cells": [
  {
   "cell_type": "code",
   "execution_count": 1,
   "metadata": {},
   "outputs": [],
   "source": [
    "from selenium import webdriver\n",
    "import time\n",
    "from selenium.webdriver.common.by import By\n",
    "import csv\n",
    "import warnings\n",
    "import json\n",
    "import threading\n",
    "from selenium_recaptcha import Recaptcha_Solver\n",
    "warnings.filterwarnings(\"ignore\")"
   ]
  },
  {
   "cell_type": "markdown",
   "metadata": {},
   "source": [
    "    Crawl data"
   ]
  },
  {
   "attachments": {},
   "cell_type": "markdown",
   "metadata": {},
   "source": [
    "    URL = https://alonhadat.com.vn/nha-dat/can-ban/nha-dat/3/da-nang.html"
   ]
  },
  {
   "cell_type": "markdown",
   "metadata": {},
   "source": [
    "Khởi tạo đối tượng webdriver và khai báo link URL"
   ]
  },
  {
   "cell_type": "code",
   "execution_count": 2,
   "metadata": {},
   "outputs": [],
   "source": [
    "#URL = https://alonhadat.com.vn/nha-dat/can-ban/nha-dat/3/da-nang.html\n",
    "productLinks = []\n",
    "nameFile = \"dataLinkAloNhaDat.txt\"\n",
    "nameFileRS = \"dataLinkAloNhaDatResult.txt\""
   ]
  },
  {
   "attachments": {},
   "cell_type": "markdown",
   "metadata": {},
   "source": [
    "Function resolve capcha"
   ]
  },
  {
   "cell_type": "code",
   "execution_count": 3,
   "metadata": {},
   "outputs": [],
   "source": [
    "def resolveCapcha(browser): \n",
    "    try:\n",
    "        btn = browser.find_element(By.CLASS_NAME, 'verify')\n",
    "        solver = Recaptcha_Solver(\n",
    "            driver= browser, # Your Web Driver\n",
    "            debug=True,\n",
    "        )\n",
    "        solver.solve_recaptcha()\n",
    "        btn.click()\n",
    "    except:\n",
    "        print(\"no capcha\")\n",
    "        pass"
   ]
  },
  {
   "cell_type": "markdown",
   "metadata": {},
   "source": [
    "Lấy tất cả các link của bất động sản tại Đà Nẵng"
   ]
  },
  {
   "cell_type": "code",
   "execution_count": null,
   "metadata": {},
   "outputs": [],
   "source": [
    "urlDaNang = \"https://alonhadat.com.vn/nha-dat/can-ban/nha-dat/3/da-nang.html/trang--{}.html\"\n",
    "file = open(nameFile, \"a+\")\n",
    "browser = webdriver.Chrome(executable_path=\"./chromedriver.exe\")\n",
    "for pagenum in range(1, 1462):\n",
    "   try:\n",
    "      browser.get(urlDaNang.format(pagenum))\n",
    "      if(len(browser.find_elements(By.CLASS_NAME, 'verify')) > 0):\n",
    "         try:\n",
    "            new_thred = threading.Thread(target=resolveCapcha, args=(browser,))\n",
    "            new_thred.start()\n",
    "            time.sleep(30)\n",
    "         except:\n",
    "            print(\"Error: unable to start thread\")\n",
    "            pass\n",
    "      tagAs = browser.find_elements(By.LINK_TEXT, '<< xem chi tiết >>')\n",
    "      for tagA in tagAs:\n",
    "         link = tagA.get_attribute(\"href\")\n",
    "         print(link)\n",
    "         file.write(link)\n",
    "         file.write('\\n')\n",
    "         productLinks.append(link)\n",
    "   except:\n",
    "      continue\n",
    "browser.quit()\n",
    "print(len(productLinks))\n",
    "file.close()\n",
    "productLinks"
   ]
  },
  {
   "attachments": {},
   "cell_type": "markdown",
   "metadata": {},
   "source": [
    "Hàm đọc file to array"
   ]
  },
  {
   "cell_type": "code",
   "execution_count": 4,
   "metadata": {},
   "outputs": [],
   "source": [
    "def readData(name):\n",
    "    with open(name, 'r') as f:\n",
    "        links = []\n",
    "        for line in f.readlines():\n",
    "            links.append(str(line))\n",
    "    return links"
   ]
  },
  {
   "cell_type": "markdown",
   "metadata": {},
   "source": [
    "Lấy các thuộc tính của bất động sản"
   ]
  },
  {
   "cell_type": "code",
   "execution_count": 5,
   "metadata": {},
   "outputs": [
    {
     "name": "stdout",
     "output_type": "stream",
     "text": [
      "{'name': 'Bán gấp nhà 4 tầng, 6PN, lô góc 2 mặt kiệt 3m - 70m2 đường Trần Cao Vân - Chỉ 4.6 tỷ', 'Giá': '4,6 tỷ', 'Diện tích': '70 m\\n2', 'Địa chỉ': 'Đường Trần Cao Vân, Phường Tam Thuận, Quận Thanh Khê, Đà Nẵng', 'Mã tin': '11016540', 'Hướng': '_', 'Phòng ăn': 'true', 'Loại tin': 'Cần bán', 'Đường trước nhà': '3m', 'Nhà bếp': 'true', 'Loại BDS': 'Nhà trong hẻm', 'Pháp lý': 'Sổ hồng/ Sổ đỏ', 'Sân thượng': 'true', 'Chiều ngang': '7m', 'Số lầu': '4', 'Chổ để xe hơi': 'true', 'Chiều dài': '10m', 'Số phòng ngủ': '6', 'Chính chủ': '---'}\n",
      "{'name': 'Cần Bán Tòa Căn Hộ 5 Tầng - 2 Mặt Tiền - Ngũ Hành Sơn - Gía Rẻ.', 'Giá': '11 tỷ', 'Diện tích': '130 m\\n2', 'Địa chỉ': 'Đường Võ Văn Đặng, Phường Hòa Hải, Quận Ngũ Hành Sơn, Đà Nẵng', 'Mã tin': '12343731', 'Hướng': '_', 'Phòng ăn': '---', 'Loại tin': 'Cần bán', 'Đường trước nhà': '7,5m', 'Nhà bếp': '---', 'Loại BDS': 'Nhà hàng, khách sạn', 'Pháp lý': '---', 'Sân thượng': '---', 'Chiều ngang': '9m', 'Số lầu': '5', 'Chổ để xe hơi': '---', 'Chiều dài': '---', 'Số phòng ngủ': '12', 'Chính chủ': '---'}\n",
      "{'name': 'Cần Bán Tòa Căn Hộ - Phường Hòa Hải - 8 Tầng - 16 Căn Hộ - Gía Rẻ', 'Giá': '22,3 tỷ', 'Diện tích': '145 m\\n2', 'Địa chỉ': 'Đường An Dương Vương, Phường Hòa Quý, Quận Ngũ Hành Sơn, Đà Nẵng', 'Mã tin': '12343729', 'Hướng': '_', 'Phòng ăn': '---', 'Loại tin': 'Cần bán', 'Đường trước nhà': '10m', 'Nhà bếp': '---', 'Loại BDS': 'Nhà hàng, khách sạn', 'Pháp lý': '---', 'Sân thượng': '---', 'Chiều ngang': '8m', 'Số lầu': '8', 'Chổ để xe hơi': '---', 'Chiều dài': '---', 'Số phòng ngủ': '16', 'Chính chủ': '---'}\n",
      "{'name': 'Cần Bán Tòa Căn Hộ 8 Tầng, Đường Khuê Mỹ Đông 14, Quận Ngũ Hành Sơn, Gía rẻ.', 'Giá': '58 tỷ', 'Diện tích': '300 m\\n2', 'Địa chỉ': 'Đường Khuê Mỹ Đông 14, Phường Khuê Mỹ, Quận Ngũ Hành Sơn, Đà Nẵng', 'Mã tin': '12313245', 'Hướng': '_', 'Phòng ăn': '---', 'Loại tin': 'Cần bán', 'Đường trước nhà': '7,5m', 'Nhà bếp': '---', 'Loại BDS': 'Nhà hàng, khách sạn', 'Pháp lý': '---', 'Sân thượng': '---', 'Chiều ngang': '15m', 'Số lầu': '8', 'Chổ để xe hơi': '---', 'Chiều dài': '---', 'Số phòng ngủ': '30', 'Chính chủ': '---'}\n",
      "{'name': 'Cần Bán Tòa Apartment - Dòng Tiền 1.4Tỷ/Năm - Gía Rẻ - 7 Tầng - Quận Sơn Trà.', 'Giá': '18 tỷ', 'Diện tích': '130 m\\n2', 'Địa chỉ': 'Đường Hoài Thanh, Phường Mỹ An, Quận Ngũ Hành Sơn, Đà Nẵng', 'Mã tin': '12289418', 'Hướng': '_', 'Phòng ăn': '---', 'Loại tin': 'Cần bán', 'Đường trước nhà': '7,5m', 'Nhà bếp': '---', 'Loại BDS': 'Nhà hàng, khách sạn', 'Pháp lý': '---', 'Sân thượng': '---', 'Chiều ngang': '10m', 'Số lầu': '7', 'Chổ để xe hơi': '---', 'Chiều dài': '---', 'Số phòng ngủ': '20', 'Chính chủ': '---'}\n",
      "{'name': 'Bán nhà 3 tầng mới cứng – Kiệt ô tô đỗ 4m Hà Huy Tập – 65m2 – Chỉ hơn 3 tỷ', 'Giá': '3,3 tỷ', 'Diện tích': '65 m\\n2', 'Địa chỉ': 'Đường Hà Huy Tập, Phường Thanh Khê Đông, Quận Thanh Khê, Đà Nẵng', 'Mã tin': '12051671', 'Hướng': '_', 'Phòng ăn': 'true', 'Loại tin': 'Cần bán', 'Đường trước nhà': '4m', 'Nhà bếp': 'true', 'Loại BDS': 'Nhà trong hẻm', 'Pháp lý': 'Sổ hồng/ Sổ đỏ', 'Sân thượng': 'true', 'Chiều ngang': '4m', 'Số lầu': '3', 'Chổ để xe hơi': 'true', 'Chiều dài': '16m', 'Số phòng ngủ': '4', 'Chính chủ': '---'}\n",
      "{'name': 'Cần bán gấp lô đất mặt tiền 120m2 Phạm Nhữ Tăng – Hơn 6 tỷ - Không lỗi phong thủy', 'Giá': '6,6 tỷ', 'Diện tích': '120 m\\n2', 'Địa chỉ': 'Đường Phạm Nhữ Tăng, Phường Hòa Khê, Quận Thanh Khê, Đà Nẵng', 'Mã tin': '11824460', 'Hướng': '_', 'Phòng ăn': 'true', 'Loại tin': 'Cần bán', 'Đường trước nhà': '7,5m', 'Nhà bếp': 'true', 'Loại BDS': 'Đất thổ cư, đất ở', 'Pháp lý': 'Sổ hồng/ Sổ đỏ', 'Sân thượng': 'true', 'Chiều ngang': '6,5m', 'Số lầu': '1', 'Chổ để xe hơi': 'true', 'Chiều dài': '19m', 'Số phòng ngủ': '1', 'Chính chủ': '---'}\n",
      "{'name': 'Cần Bán Tòa Căn Hộ - Ngay Khu Phố Tây - 5 Tầng - 7 Căn Hộ - Gía Rẻ.', 'Giá': '16 tỷ', 'Diện tích': '90 m\\n2', 'Địa chỉ': 'Đường An Thượng 34, Phường Mỹ An, Quận Ngũ Hành Sơn, Đà Nẵng', 'Mã tin': '12354037', 'Hướng': '_', 'Phòng ăn': '---', 'Loại tin': 'Cần bán', 'Đường trước nhà': '7,5m', 'Nhà bếp': '---', 'Loại BDS': 'Nhà hàng, khách sạn', 'Pháp lý': '---', 'Sân thượng': '---', 'Chiều ngang': '5m', 'Số lầu': '5', 'Chổ để xe hơi': '---', 'Chiều dài': '---', 'Số phòng ngủ': '7', 'Chính chủ': '---'}\n",
      "{'name': 'BÁN GẤP ! Bán ngay nhà 4 tầng Điện Biên Phủ - 70m2 - Lô góc, ô tô đỗ cửa. Chỉ nhỉnh 4 tỷ', 'Giá': '4,5 tỷ', 'Diện tích': '70 m\\n2', 'Địa chỉ': 'Đường Điện Biên Phủ, Phường Chính Gián, Quận Thanh Khê, Đà Nẵng', 'Mã tin': '10988640', 'Hướng': '_', 'Phòng ăn': 'true', 'Loại tin': 'Cần bán', 'Đường trước nhà': '5m', 'Nhà bếp': 'true', 'Loại BDS': 'Nhà trong hẻm', 'Pháp lý': 'Sổ hồng/ Sổ đỏ', 'Sân thượng': 'true', 'Chiều ngang': '5,5m', 'Số lầu': '4', 'Chổ để xe hơi': 'true', 'Chiều dài': '12m', 'Số phòng ngủ': '3', 'Chính chủ': '---'}\n",
      "{'name': 'SỤP HẦM !! Sở hữu tòa căn hộ 5T Tô Hiến Thành – Mới cứng – Nhỉnh 7 tỷ', 'Giá': '7,9 tỷ', 'Diện tích': '80 m\\n2', 'Địa chỉ': 'Đường Tô Hiến Thành, Phường Phước Mỹ, Quận Sơn Trà, Đà Nẵng', 'Mã tin': '12508091', 'Hướng': '_', 'Phòng ăn': 'true', 'Loại tin': 'Cần bán', 'Đường trước nhà': '5,5m', 'Nhà bếp': 'true', 'Loại BDS': 'Phòng trọ, nhà trọ', 'Pháp lý': 'Sổ hồng/ Sổ đỏ', 'Sân thượng': 'true', 'Chiều ngang': '5m', 'Số lầu': '5', 'Chổ để xe hơi': 'true', 'Chiều dài': '16m', 'Số phòng ngủ': '8', 'Chính chủ': '---'}\n",
      "{'name': 'Cần Bán Tòa Căn Hộ Dòng Tiền Gần 1Tỷ/Năm - Gía Rẻ - Gần Biển - Quận Sơn Trà.', 'Giá': '17,3 tỷ', 'Diện tích': '100 m\\n2', 'Địa chỉ': 'Đường Nguyễn Xuân Khoát, Phường An Hải Bắc, Quận Sơn Trà, Đà Nẵng', 'Mã tin': '12354029', 'Hướng': '_', 'Phòng ăn': '---', 'Loại tin': 'Cần bán', 'Đường trước nhà': '5,5m', 'Nhà bếp': '---', 'Loại BDS': 'Căn hộ chung cư', 'Pháp lý': '---', 'Sân thượng': '---', 'Chiều ngang': '5m', 'Số lầu': '8', 'Chổ để xe hơi': '---', 'Chiều dài': '---', 'Số phòng ngủ': '13', 'Chính chủ': '---'}\n",
      "{'name': 'Bán gấp nhà mặt tiền Đỗ Nhuận – Mua 1 được 2, Vừa ở vừa kinh doanh– 125m2 – Chỉ hơn 4 tỷ', 'Giá': '4,6 tỷ', 'Diện tích': '125 m\\n2', 'Địa chỉ': 'Đường Đỗ Nhuận, Phường Hòa Minh, Quận Liên Chiểu, Đà Nẵng', 'Mã tin': '12380912', 'Hướng': '_', 'Phòng ăn': 'true', 'Loại tin': 'Cần bán', 'Đường trước nhà': '5,5m', 'Nhà bếp': 'true', 'Loại BDS': 'Nhà mặt tiền', 'Pháp lý': 'Sổ hồng/ Sổ đỏ', 'Sân thượng': 'true', 'Chiều ngang': '8m', 'Số lầu': '2', 'Chổ để xe hơi': 'true', 'Chiều dài': '18m', 'Số phòng ngủ': '4', 'Chính chủ': '---'}\n",
      "{'name': 'Cần Bán Tòa Căn Hộ Cho Thuê 5 Tầng - 21 Phòng - Phường Khuê Mỹ - Gía Rẻ.', 'Giá': '10 tỷ', 'Diện tích': '170 m\\n2', 'Địa chỉ': 'Đường K20, Phường Khuê Mỹ, Quận Ngũ Hành Sơn, Đà Nẵng', 'Mã tin': '12364854', 'Hướng': '_', 'Phòng ăn': '---', 'Loại tin': 'Cần bán', 'Đường trước nhà': '7,5m', 'Nhà bếp': '---', 'Loại BDS': 'Phòng trọ, nhà trọ', 'Pháp lý': '---', 'Sân thượng': '---', 'Chiều ngang': '5m', 'Số lầu': '5', 'Chổ để xe hơi': '---', 'Chiều dài': '---', 'Số phòng ngủ': '20', 'Chính chủ': '---'}\n",
      "{'name': 'Cần Bán Tòa Căn Hộ - 7 Tầng - Phường Mỹ An - Gía Rẻ', 'Giá': '12 tỷ', 'Diện tích': '100 m\\n2', 'Địa chỉ': 'Đường An Dương Vương, Phường Mỹ An, Quận Ngũ Hành Sơn, Đà Nẵng', 'Mã tin': '12364868', 'Hướng': '_', 'Phòng ăn': '---', 'Loại tin': 'Cần bán', 'Đường trước nhà': '30m', 'Nhà bếp': '---', 'Loại BDS': 'Nhà hàng, khách sạn', 'Pháp lý': '---', 'Sân thượng': '---', 'Chiều ngang': '5m', 'Số lầu': '7', 'Chổ để xe hơi': '---', 'Chiều dài': '---', 'Số phòng ngủ': '14', 'Chính chủ': '---'}\n",
      "{'name': 'Bán dãy trọ 4 tầng Trần Cao Vân, tiết kiệm thời gian quản lý–Dòng tiền 16tr/tháng–Hơn 3 tỷ', 'Giá': '3,2 tỷ', 'Diện tích': '55 m\\n2', 'Địa chỉ': 'Đường Trần Cao Vân, Phường Tam Thuận, Quận Thanh Khê, Đà Nẵng', 'Mã tin': '11824650', 'Hướng': '_', 'Phòng ăn': 'true', 'Loại tin': 'Cần bán', 'Đường trước nhà': '3m', 'Nhà bếp': 'true', 'Loại BDS': 'Phòng trọ, nhà trọ', 'Pháp lý': 'Sổ hồng/ Sổ đỏ', 'Sân thượng': 'true', 'Chiều ngang': '9m', 'Số lầu': '4', 'Chổ để xe hơi': 'true', 'Chiều dài': '6m', 'Số phòng ngủ': '4', 'Chính chủ': '---'}\n",
      "{'name': 'Cực đẹp !! Bán nhà 2 tầng kiệt Thái Thị Bôi – 55m2 – Chỉ 3.05 tỷ', 'Giá': '3,05 tỷ', 'Diện tích': '55 m\\n2', 'Địa chỉ': 'Đường Thái Thị Bôi, Phường Chính Gián, Quận Thanh Khê, Đà Nẵng', 'Mã tin': '12557755', 'Hướng': '_', 'Phòng ăn': 'true', 'Loại tin': 'Cần bán', 'Đường trước nhà': '3m', 'Nhà bếp': 'true', 'Loại BDS': 'Nhà trong hẻm', 'Pháp lý': 'Sổ hồng/ Sổ đỏ', 'Sân thượng': 'true', 'Chiều ngang': '4m', 'Số lầu': '2', 'Chổ để xe hơi': 'true', 'Chiều dài': '12m', 'Số phòng ngủ': '3', 'Chính chủ': '---'}\n",
      "{'name': 'Bán nhanh căn hộ 5 tầng DÒNG TIỀN KHỦNG đường Đống Đa – Hải Châu Giá chỉ nhỉnh 10 tỷ.', 'Giá': '10,3 tỷ', 'Diện tích': '120 m\\n2', 'Địa chỉ': 'Đường Đống Đa, Phường Thuận Phước, Quận Hải Châu, Đà Nẵng', 'Mã tin': '10867901', 'Hướng': '_', 'Phòng ăn': 'true', 'Loại tin': 'Cần bán', 'Đường trước nhà': '5m', 'Nhà bếp': 'true', 'Loại BDS': 'Phòng trọ, nhà trọ', 'Pháp lý': 'Sổ hồng/ Sổ đỏ', 'Sân thượng': 'true', 'Chiều ngang': '5,5m', 'Số lầu': '5', 'Chổ để xe hơi': 'true', 'Chiều dài': '22m', 'Số phòng ngủ': '14', 'Chính chủ': '---'}\n",
      "{'name': 'Khu VIP – Mặt tiền 2 tầng Xuân Đán 2 – 90m2 – Chỉ hơn 5 tỷ - Ở siêu sướng', 'Giá': '5,8 tỷ', 'Diện tích': '90 m\\n2', 'Địa chỉ': 'Đường Xuân Đán 2, Phường Xuân Hà, Quận Thanh Khê, Đà Nẵng', 'Mã tin': '12489102', 'Hướng': '_', 'Phòng ăn': 'true', 'Loại tin': 'Cần bán', 'Đường trước nhà': '6m', 'Nhà bếp': 'true', 'Loại BDS': 'Nhà mặt tiền', 'Pháp lý': 'Sổ hồng/ Sổ đỏ', 'Sân thượng': 'true', 'Chiều ngang': '5m', 'Số lầu': '2', 'Chổ để xe hơi': 'true', 'Chiều dài': '18m', 'Số phòng ngủ': '3', 'Chính chủ': '---'}\n",
      "{'name': 'Bán nhà 3 tầng, mặt tiền đường 7.5m Yên Khê 2 – Lô góc 2 mặt thoáng - 68m2 – Chỉ 3.8 tỷ', 'Giá': '3,8 tỷ', 'Diện tích': '68 m\\n2', 'Địa chỉ': 'Đường Yên Khê 2, Phường Thanh Khê Tây, Quận Thanh Khê, Đà Nẵng', 'Mã tin': '11740196', 'Hướng': '_', 'Phòng ăn': 'true', 'Loại tin': 'Cần bán', 'Đường trước nhà': '8m', 'Nhà bếp': 'true', 'Loại BDS': 'Nhà mặt tiền', 'Pháp lý': 'Sổ hồng/ Sổ đỏ', 'Sân thượng': 'true', 'Chiều ngang': '4m', 'Số lầu': '3', 'Chổ để xe hơi': 'true', 'Chiều dài': '17m', 'Số phòng ngủ': '3', 'Chính chủ': '---'}\n",
      "{'name': 'Giỏ căn mới toàn những tầng đẹp-cao-căn hộ trực diện biển Mỹ Khê chính thức mở bảng hàng', 'Giá': '1,8 tỷ', 'Diện tích': '70 m\\n2', 'Địa chỉ': 'Đường Trường Sa, Phường Hòa Quý, Quận Ngũ Hành Sơn, Đà Nẵng', 'Mã tin': '11891002', 'Hướng': '_', 'Phòng ăn': '---', 'Loại tin': 'Cần bán', 'Đường trước nhà': '7,5m', 'Nhà bếp': '---', 'Loại BDS': 'Căn hộ chung cư', 'Pháp lý': 'Sổ hồng/ Sổ đỏ', 'Sân thượng': '---', 'Chiều ngang': '10m', 'Số lầu': '25', 'Chổ để xe hơi': '---', 'Chiều dài': '20m', 'Số phòng ngủ': '3', 'Chính chủ': '---', 'Thuộc dự án': 'Căn hộ chung cư Coco Ocean - Spa Resort (xem chi tiết dự án)'}\n",
      "{'name': '971m2 đất vườn view sông Cu Đê có 200m2 đất ở thích hợp xây biệt thự Nghỉ Dưỡng', 'Giá': '5,6 tỷ', 'Diện tích': '971 m\\n2', 'Địa chỉ': 'Đường Nguyễn Tất Thành, Xã Hòa Liên, Huyện Hòa Vang, Đà Nẵng', 'Mã tin': '11178348', 'Hướng': 'Đông', 'Phòng ăn': '---', 'Loại tin': 'Cần bán', 'Đường trước nhà': '7,5m', 'Nhà bếp': '---', 'Loại BDS': 'Đất thổ cư, đất ở', 'Pháp lý': 'Sổ hồng/ Sổ đỏ', 'Sân thượng': '---', 'Chiều ngang': '25m', 'Số lầu': '---', 'Chổ để xe hơi': '---', 'Chiều dài': '25m', 'Số phòng ngủ': '---', 'Chính chủ': '---'}\n",
      "{'name': 'lô góc 2MT kẹp Công viên khu E kim long cần bán gấp giá siu rẻ', 'Giá': '3,7 tỷ', 'Diện tích': '100 m\\n2', 'Địa chỉ': 'Đường Nguyễn Sinh Sắc, Phường Hòa Minh, Quận Liên Chiểu, Đà Nẵng', 'Mã tin': '10823073', 'Hướng': 'Đông', 'Phòng ăn': '---', 'Loại tin': 'Cần bán', 'Đường trước nhà': '7,5m', 'Nhà bếp': '---', 'Loại BDS': 'Đất nền, liền kề, đất dự án', 'Pháp lý': 'Sổ hồng/ Sổ đỏ', 'Sân thượng': '---', 'Chiều ngang': '5m', 'Số lầu': '---', 'Chổ để xe hơi': '---', 'Chiều dài': '20m', 'Số phòng ngủ': '---', 'Chính chủ': '---', 'Thuộc dự án': 'Nhà phố Kim Long City – Khu E (Phân khu Shophouse) (xem chi tiết dự án)'}\n",
      "{'name': 'Chủ cần tiền nên bán nhanh lô đất mặt tiền đường Tôn Đản, Cẩm Lệ!', 'Giá': '3,7 tỷ', 'Diện tích': '77 m\\n2', 'Địa chỉ': 'Đường Tôn Đản, Phường Hòa Phát, Quận Cẩm Lệ, Đà Nẵng', 'Mã tin': '11979668', 'Hướng': 'Đông', 'Phòng ăn': '---', 'Loại tin': 'Cần bán', 'Đường trước nhà': '7,5m', 'Nhà bếp': '---', 'Loại BDS': 'Đất thổ cư, đất ở', 'Pháp lý': 'Sổ hồng/ Sổ đỏ', 'Sân thượng': '---', 'Chiều ngang': '5m', 'Số lầu': '---', 'Chổ để xe hơi': '---', 'Chiều dài': '20m', 'Số phòng ngủ': '---', 'Chính chủ': '---'}\n",
      "{'name': 'bán đất Hoà minh 25 đường Thông ra Nguyễn sinh sắc giá rẻ', 'Giá': '3,85 tỷ', 'Diện tích': '110 m\\n2', 'Địa chỉ': 'Đường Nguyễn Sinh Sắc, Phường Hòa Minh, Quận Liên Chiểu, Đà Nẵng', 'Mã tin': '11378639', 'Hướng': 'Đông', 'Phòng ăn': '---', 'Loại tin': 'Cần bán', 'Đường trước nhà': '7,5m', 'Nhà bếp': '---', 'Loại BDS': 'Đất thổ cư, đất ở', 'Pháp lý': 'Sổ hồng/ Sổ đỏ', 'Sân thượng': '---', 'Chiều ngang': '5m', 'Số lầu': '---', 'Chổ để xe hơi': '---', 'Chiều dài': '22m', 'Số phòng ngủ': '---', 'Chính chủ': '---'}\n",
      "{'name': 'Chào bán 3 lô liền kề đường Nguyễn Tất Thành, Đà Nẵng. gần Tôn Thất Đạm', 'Giá': '11 tỷ', 'Diện tích': '125 m\\n2', 'Địa chỉ': 'Đường Nguyễn Tất Thành, Phường Tam Thuận, Quận Thanh Khê, Đà Nẵng', 'Mã tin': '11758992', 'Hướng': 'Đông', 'Phòng ăn': '---', 'Loại tin': 'Cần bán', 'Đường trước nhà': '105m', 'Nhà bếp': '---', 'Loại BDS': 'Đất thổ cư, đất ở', 'Pháp lý': 'Sổ hồng/ Sổ đỏ', 'Sân thượng': '---', 'Chiều ngang': '5m', 'Số lầu': '---', 'Chổ để xe hơi': '---', 'Chiều dài': '25m', 'Số phòng ngủ': '---', 'Chính chủ': '---'}\n",
      "{'name': 'Cần bán gấp lô đất đẹp mặt tiền đường Bàu Mạc 4, Phường Hòa Khánh Bắc, Liên Chiểu, Đà Nẵng', 'Giá': '3 tỷ', 'Diện tích': '125 m\\n2', 'Địa chỉ': 'Đường Bàu Mạc 4, Phường Hòa Khánh Bắc, Quận Liên Chiểu, Đà Nẵng', 'Mã tin': '12093216', 'Hướng': 'Đông', 'Phòng ăn': '---', 'Loại tin': 'Cần bán', 'Đường trước nhà': '5,5m', 'Nhà bếp': '---', 'Loại BDS': 'Đất thổ cư, đất ở', 'Pháp lý': 'Sổ hồng/ Sổ đỏ', 'Sân thượng': '---', 'Chiều ngang': '5m', 'Số lầu': '---', 'Chổ để xe hơi': '---', 'Chiều dài': '29m', 'Số phòng ngủ': '---', 'Chính chủ': '---'}\n",
      "{'name': 'bán đất Hoà Liên 809m2 giá rẻ thích hợp xây nhà vườn nghỉ dưỡng', 'Giá': '5 tỷ', 'Diện tích': '809 m\\n2', 'Địa chỉ': 'Đường Nguyễn Tất Thành, Xã Hòa Liên, Huyện Hòa Vang, Đà Nẵng', 'Mã tin': '10611690', 'Hướng': '_', 'Phòng ăn': '---', 'Loại tin': 'Cần bán', 'Đường trước nhà': '7,5m', 'Nhà bếp': '---', 'Loại BDS': 'Đất thổ cư, đất ở', 'Pháp lý': 'Sổ hồng/ Sổ đỏ', 'Sân thượng': '---', 'Chiều ngang': '40m', 'Số lầu': '---', 'Chổ để xe hơi': '---', 'Chiều dài': '20m', 'Số phòng ngủ': '---', 'Chính chủ': '---'}\n",
      "{'name': 'Bán nhà mặt tiền đường Phùng Chí Kiên, Phường Hòa Minh, Quận Liên Chiểu', 'Giá': '3,5 tỷ', 'Diện tích': '75 m\\n2', 'Địa chỉ': 'Đường Phùng Chí Kiên, Phường Hòa Minh, Quận Liên Chiểu, Đà Nẵng', 'Mã tin': '12119795', 'Hướng': 'Đông', 'Phòng ăn': '---', 'Loại tin': 'Cần bán', 'Đường trước nhà': '5,5m', 'Nhà bếp': '---', 'Loại BDS': 'Nhà mặt tiền', 'Pháp lý': 'Sổ hồng/ Sổ đỏ', 'Sân thượng': '---', 'Chiều ngang': '5m', 'Số lầu': '2', 'Chổ để xe hơi': '---', 'Chiều dài': '20m', 'Số phòng ngủ': '3', 'Chính chủ': '---'}\n",
      "{'name': 'bán đất Biệt Thự Lakeside 300m2 đường 15m gần đường 10m5 trục chính', 'Giá': '4,5 tỷ', 'Diện tích': '300 m\\n2', 'Địa chỉ': 'Đường số 5, Phường Hòa Hiệp Nam, Quận Liên Chiểu, Đà Nẵng', 'Mã tin': '10681880', 'Hướng': 'Tây Bắc', 'Phòng ăn': '---', 'Loại tin': 'Cần bán', 'Đường trước nhà': '15m', 'Nhà bếp': '---', 'Loại BDS': 'Biệt thự, nhà liền kề', 'Pháp lý': 'Sổ hồng/ Sổ đỏ', 'Sân thượng': '---', 'Chiều ngang': '15m', 'Số lầu': '3', 'Chổ để xe hơi': '---', 'Chiều dài': '20m', 'Số phòng ngủ': '3', 'Chính chủ': '---', 'Thuộc dự án': 'Khu dân cư Lake View Center (xem chi tiết dự án)'}\n",
      "{'name': '- Bán lô đất biển Trần Đức Thông song song Vương Thừa Vũ, cách biển 200m ngay công viên', 'Giá': '6,1 tỷ', 'Diện tích': '80 m\\n2', 'Địa chỉ': 'Đường Trần Đức Thông, Phường Phước Mỹ, Quận Sơn Trà, Đà Nẵng', 'Mã tin': '11972749', 'Hướng': 'Đông', 'Phòng ăn': '---', 'Loại tin': 'Cần bán', 'Đường trước nhà': '7,5m', 'Nhà bếp': '---', 'Loại BDS': 'Đất thổ cư, đất ở', 'Pháp lý': 'Sổ hồng/ Sổ đỏ', 'Sân thượng': '---', 'Chiều ngang': '5m', 'Số lầu': '---', 'Chổ để xe hơi': '---', 'Chiều dài': '20m', 'Số phòng ngủ': '---', 'Chính chủ': '---'}\n",
      "Solving Captcha...\n",
      "Downloading Audio...\n",
      "Processing audio...\n",
      "Recognizing audio...\n",
      "Message: no such element: Unable to locate element: {\"method\":\"xpath\",\"selector\":\"//div[@class='content plp']\"}\n",
      "  (Session info: chrome=112.0.5615.87)\n",
      "Stacktrace:\n",
      "Backtrace:\n",
      "\tGetHandleVerifier [0x00F6DCE3+50899]\n",
      "\t(No symbol) [0x00EFE111]\n",
      "\t(No symbol) [0x00E05588]\n",
      "\t(No symbol) [0x00E308F9]\n",
      "\t(No symbol) [0x00E30AFB]\n",
      "\t(No symbol) [0x00E5F902]\n",
      "\t(No symbol) [0x00E4B944]\n",
      "\t(No symbol) [0x00E5E01C]\n",
      "\t(No symbol) [0x00E4B6F6]\n",
      "\t(No symbol) [0x00E27708]\n",
      "\t(No symbol) [0x00E2886D]\n",
      "\tGetHandleVerifier [0x011D3EAE+2566302]\n",
      "\tGetHandleVerifier [0x012092B1+2784417]\n",
      "\tGetHandleVerifier [0x0120327C+2759788]\n",
      "\tGetHandleVerifier [0x01005740+672048]\n",
      "\t(No symbol) [0x00F08872]\n",
      "\t(No symbol) [0x00F041C8]\n",
      "\t(No symbol) [0x00F042AB]\n",
      "\t(No symbol) [0x00EF71B7]\n",
      "\tBaseThreadInitThunk [0x762F7D49+25]\n",
      "\tRtlInitializeExceptionChain [0x771AB74B+107]\n",
      "\tRtlClearBits [0x771AB6CF+191]\n",
      "\n",
      "Solving Captcha...\n",
      "Downloading Audio...\n",
      "Processing audio...\n",
      "no capcha\n"
     ]
    }
   ],
   "source": [
    "detailProductsAloDN = []\n",
    "browser = webdriver.Chrome(executable_path=\"chromedriver\")\n",
    "links = readData(nameFile)\n",
    "for link in links:\n",
    "    try:\n",
    "        browser.get(link)\n",
    "        if(len(browser.find_elements(By.CLASS_NAME, 'verify')) > 0):\n",
    "            try:\n",
    "                new_thred = threading.Thread(target=resolveCapcha, args=(browser,))\n",
    "                new_thred.start()\n",
    "                time.sleep(30)\n",
    "            except:\n",
    "                print(\"Error: unable to start thread\")\n",
    "                pass\n",
    "        data = browser.find_element(By.XPATH, \"//div[@class='content plp']\")\n",
    "        try:\n",
    "            name = data.find_element(By.TAG_NAME, \"h1\").text\n",
    "            detailProduct = {\"name\": name}\n",
    "        except:\n",
    "            pass\n",
    "        try:\n",
    "            price = data.find_element(By.CLASS_NAME, \"price\").find_element(By.CLASS_NAME, \"value\").text\n",
    "            detailProduct[\"Giá\"] = price\n",
    "        except:\n",
    "            pass\n",
    "        try:\n",
    "            square = data.find_element(By.CLASS_NAME, \"square\").find_element(By.CLASS_NAME, \"value\").text\n",
    "            detailProduct[\"Diện tích\"] = square\n",
    "        except:\n",
    "            pass\n",
    "        try:\n",
    "            address = data.find_element(By.CLASS_NAME, \"address\").find_element(By.CLASS_NAME, \"value\").text\n",
    "            detailProduct[\"Địa chỉ\"] = address\n",
    "        except:\n",
    "            pass\n",
    "        try:\n",
    "            infor =  data.find_elements(By.TAG_NAME, \"td\")\n",
    "            for i in range(0, len(infor), 2):\n",
    "                detailProduct[infor[i].text] = infor[i + 1].text if(infor[i + 1].text != '') else 'true'\n",
    "        except:\n",
    "            pass\n",
    "        fileRS = open(nameFileRS, \"a+\", encoding=\"utf-8\")\n",
    "        fileRS.write(json.dumps(detailProduct, ensure_ascii=False))\n",
    "        fileRS.write('\\n')\n",
    "        fileRS.close()\n",
    "        detailProductsAloDN.append(detailProduct)\n",
    "        print(detailProduct)\n",
    "    except Exception as e:\n",
    "        print(e)\n",
    "        continue\n",
    "browser.quit()\n",
    "detailProductsAloDN"
   ]
  },
  {
   "cell_type": "markdown",
   "metadata": {},
   "source": [
    "Ghi dữ liệu qua file excel"
   ]
  },
  {
   "cell_type": "code",
   "execution_count": null,
   "metadata": {},
   "outputs": [],
   "source": [
    "csv_columns = []\n",
    "for product in detailProductsAloDN:\n",
    "    tempkhac = set(list(product)[0:]) ^ set(csv_columns)\n",
    "    tempgiong = set(list(product)[0:]) & set(csv_columns)\n",
    "    csv_columns = tempkhac ^ tempgiong\n",
    "csv_file = \"dataAloNhaDat.csv\"\n",
    "try:\n",
    "    with open(csv_file, 'w+',encoding= \"utf-8\") as csvfile:\n",
    "        writer = csv.DictWriter(csvfile, fieldnames=csv_columns)\n",
    "        writer.writeheader()\n",
    "        for dataz in detailProductsAloDN:\n",
    "            try:\n",
    "                writer.writerow(dataz)\n",
    "            except:\n",
    "                continue\n",
    "except IOError:\n",
    "    print(\"I/O error\")"
   ]
  }
 ],
 "metadata": {
  "kernelspec": {
   "display_name": "Python 3",
   "language": "python",
   "name": "python3"
  },
  "language_info": {
   "codemirror_mode": {
    "name": "ipython",
    "version": 3
   },
   "file_extension": ".py",
   "mimetype": "text/x-python",
   "name": "python",
   "nbconvert_exporter": "python",
   "pygments_lexer": "ipython3",
   "version": "3.11.1"
  },
  "orig_nbformat": 4
 },
 "nbformat": 4,
 "nbformat_minor": 2
}
